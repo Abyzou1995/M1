{
 "cells": [
  {
   "cell_type": "markdown",
   "metadata": {},
   "source": [
    "# Práctica Clase 1 "
   ]
  },
  {
   "cell_type": "markdown",
   "metadata": {},
   "source": [
    "1) Crear una función capaz de convertir números enteros de base 10 a base 2. Debe recibir como parámetro el número a convertir<br>\n",
    "Consideraciones:<br> \n",
    "a. Tratar de resolverlo sin usar la función format(nro,\"b\")<br>\n",
    "b. El pdf \"conversion-de-decimal-a-binario.pdf\" puede servir de ayuda.\n"
   ]
  },
  {
   "cell_type": "code",
   "execution_count": 76,
   "metadata": {},
   "outputs": [],
   "source": [
    "def NumeroBinario(numero):\n",
    "    \n",
    "    binario = ''\n",
    "    #si modulo de la división 1 representamos el binario como 1\n",
    "    # si el modulo de la division es 0 representamos el binario como 0\n",
    "    # luego de hacer lo anterior tengo que dividir por 2, pero necesito un numero entero\n",
    "    # repetir los pasos anteriores hasta que el numero se convierta en 1\n",
    "    while numero > 1:\n",
    "        \n",
    "        if numero % 2 == 1:\n",
    "            binario +=  '1'\n",
    "        else:\n",
    "            binario += '0'\n",
    "        \n",
    "        numero = int(numero/2)    \n",
    "    \n",
    "    binario +=  '1'\n",
    "     \n",
    "    return binario[::-1]\n"
   ]
  },
  {
   "cell_type": "code",
   "execution_count": 49,
   "metadata": {},
   "outputs": [
    {
     "data": {
      "text/plain": [
       "'11101'"
      ]
     },
     "execution_count": 49,
     "metadata": {},
     "output_type": "execute_result"
    }
   ],
   "source": [
    "#Ejemplo:\n",
    "NumeroBinario(29)"
   ]
  },
  {
   "cell_type": "markdown",
   "metadata": {},
   "source": [
    "2) Convertir de decimal a binario las fracciones 1/2, 1/3, 1/4, 1/5, 1/6, 1/7, 1/8, 1/9. Luego analizar los resultados y observar qué particularidad se encuentra en los mismos. Se puede usar Python o una calculadora, lo importante es ver si hay algo que podemos notar..."
   ]
  },
  {
   "cell_type": "code",
   "execution_count": 87,
   "metadata": {},
   "outputs": [],
   "source": [
    "def NumeroBinarioDecimal(numero):\n",
    "    # multiplicar el numero por 2\n",
    "    # si el numero es menor a 1 escribir el binario 0\n",
    "    # si el numero es mayor a 1 escribir el binario 1,\n",
    "    # y restarle al numero 1\n",
    "    # repetir los pasos anteriores\n",
    "    binario = \"0.\"\n",
    "    i = 0\n",
    "    \n",
    "        \n",
    "    \n",
    "    repeticion = 10\n",
    "    while i < 10:\n",
    "        numero *= 2\n",
    "        if numero < 1:\n",
    "            binario += \"0\"\n",
    "        elif numero >= 1:\n",
    "            binario += \"1\"\n",
    "            numero -= 1\n",
    "        \n",
    "        if numero == 0:\n",
    "            break\n",
    "        i = i + 1\n",
    "    \n",
    "    return binario"
   ]
  },
  {
   "cell_type": "code",
   "execution_count": 89,
   "metadata": {},
   "outputs": [
    {
     "data": {
      "text/plain": [
       "'0.0110011001'"
      ]
     },
     "execution_count": 89,
     "metadata": {},
     "output_type": "execute_result"
    }
   ],
   "source": [
    "NumeroBinarioDecimal(0.4)"
   ]
  },
  {
   "cell_type": "code",
   "execution_count": 85,
   "metadata": {},
   "outputs": [],
   "source": [
    "def NumeroBinarioCompleto(numero):\n",
    "    \n",
    "    if numero >= 1:\n",
    "        entero = NumeroBinario(int(numero))\n",
    "        fraccion = numero - int(numero)\n",
    "        fraccionario = NumeroBinarioDecimal(fraccion)\n",
    "        return entero + fraccionario[1::]\n",
    "    else: \n",
    "        return NumeroBinarioDecimal(numero)"
   ]
  },
  {
   "cell_type": "code",
   "execution_count": 90,
   "metadata": {},
   "outputs": [
    {
     "data": {
      "text/plain": [
       "'1010.0110011001'"
      ]
     },
     "execution_count": 90,
     "metadata": {},
     "output_type": "execute_result"
    }
   ],
   "source": [
    "NumeroBinarioCompleto(10.4)"
   ]
  },
  {
   "cell_type": "markdown",
   "metadata": {},
   "source": [
    "Salida esperada:\n",
    "* Fraccion 1 / 2 :  0.5  y En binario:  0.1\n",
    "* Fraccion 1 / 3 :  0.3333333333333333  y En binario:  0.010101010101010101010101\n",
    "* Fraccion 1 / 4 :  0.25  y En binario:  0.01\n",
    "* Fraccion 1 / 5 :  0.2  y En binario:  0.001100110011001100110011\n",
    "* Fraccion 1 / 6 :  0.16666666666666666  y En binario:  0.001010101010101010101010\n",
    "* Fraccion 1 / 7 :  0.14285714285714285  y En binario:  0.001001001001001001001001\n",
    "* Fraccion 1 / 8 :  0.125  y En binario:  0.001\n",
    "* Fraccion 1 / 9 :  0.1111111111111111  y En binario:  0.000111000111000111000111"
   ]
  }
 ],
 "metadata": {
  "interpreter": {
   "hash": "c85384e4cb51c8b72350f3a8712cc8351fdc3955e32a27f9b60c6242ab125f01"
  },
  "kernelspec": {
   "display_name": "Python 3 (ipykernel)",
   "language": "python",
   "name": "python3"
  },
  "language_info": {
   "codemirror_mode": {
    "name": "ipython",
    "version": 3
   },
   "file_extension": ".py",
   "mimetype": "text/x-python",
   "name": "python",
   "nbconvert_exporter": "python",
   "pygments_lexer": "ipython3",
   "version": "3.8.10"
  }
 },
 "nbformat": 4,
 "nbformat_minor": 4
}
