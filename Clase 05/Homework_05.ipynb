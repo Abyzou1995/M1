{
 "cells": [
  {
   "cell_type": "markdown",
   "metadata": {},
   "source": [
    "# Práctica Clase 5"
   ]
  },
  {
   "cell_type": "markdown",
   "metadata": {},
   "source": [
    "1) Implementar un juego, que consista en apilar números enteros del 1 al 20, de forma aleatoria, para lo cual debe usarse una estructura de Pila. \n",
    "Luego, el usuario debe elegir un número de veces en que se va a quitar elementos de la pila, los cuales, sumados entre sí, no deben superar el valor de 50.\n",
    "El usuario pierde si la suma supera ese valor. Si no lo supera, gana, pero su calificación será 10 menos el número elementos que falten quitar para todavía no superar 50.\n",
    "El programa debe informar si perdió, y si ganó, con qué calificación lo hizo.\n",
    "\n",
    "Consideraciones:<br>\n",
    "a. Se puede usar la función input() para obtener una entrada de teclado.<br>\n",
    "b. Se puede usar la el modulo random para obtener valores aleatorios."
   ]
  },
  {
   "cell_type": "code",
   "execution_count": 1,
   "metadata": {},
   "outputs": [],
   "source": [
    "import random as r"
   ]
  },
  {
   "cell_type": "code",
   "execution_count": 39,
   "metadata": {},
   "outputs": [],
   "source": [
    "class Pila():\n",
    "    def __init__(self):\n",
    "        self.__lista=[]\n",
    "        self.__puntaje=20\n",
    "        conteo=1\n",
    "        for _ in range(20):\n",
    "            self.__lista.append(conteo)\n",
    "            conteo+=1\n",
    "        r.shuffle(self.__lista)\n",
    "    def mirar_lista(self):\n",
    "        print(self.__lista)\n",
    "    def quitar_elemento(self):\n",
    "        return self.__lista.pop(-1)\n",
    "    def jugar(self):\n",
    "        print(\"Bienvenido al juego Pila\")\n",
    "        print(\"Pila del 1 al 10 ordenados aleatoriamente\")\n",
    "        suma=0\n",
    "        elementos=int(input(\"¿Cuantos elementos desea quitar de la pila?\"))\n",
    "        for i in range(int(elementos)):\n",
    "             suma+=self.quitar_elemento()\n",
    "             if suma>=50:\n",
    "                 print(\"perdiste, la suma de\",i+1,\"cantidad de elementos supera 50\",suma)\n",
    "                 self.__lista = []\n",
    "                 conteo = 1\n",
    "                 for _ in range(20):\n",
    "                     self.__lista.append(conteo)\n",
    "                     conteo += 1\n",
    "                 r.shuffle(self.__lista)\n",
    "                 break\n",
    "             \n",
    "             if i==int(elementos)-1:\n",
    "                 self.__puntaje-=len(self.__lista)\n",
    "                 print(\"ganaste\",self.__puntaje,suma)\n",
    "                 self.__lista=[]\n",
    "                 self.__puntaje=20\n",
    "                 conteo=1\n",
    "                 for _ in range(20):\n",
    "                     self.__lista.append(conteo)\n",
    "                     conteo+=1\n",
    "                 r.shuffle(self.__lista)\n",
    "                 break\n",
    "\n",
    "                 \n",
    "\n"
   ]
  },
  {
   "cell_type": "code",
   "execution_count": 40,
   "metadata": {},
   "outputs": [],
   "source": [
    "pila=Pila()"
   ]
  },
  {
   "cell_type": "code",
   "execution_count": 4,
   "metadata": {},
   "outputs": [
    {
     "name": "stdout",
     "output_type": "stream",
     "text": [
      "[3, 13, 4, 2, 17, 18, 9, 16, 15, 7, 10, 20, 1, 5, 14, 6, 8, 11, 12, 19]\n"
     ]
    }
   ],
   "source": [
    "pila.mirar_lista()"
   ]
  },
  {
   "cell_type": "code",
   "execution_count": 25,
   "metadata": {},
   "outputs": [],
   "source": [
    "pila.quitar_elemento()"
   ]
  },
  {
   "cell_type": "code",
   "execution_count": 6,
   "metadata": {},
   "outputs": [
    {
     "name": "stdout",
     "output_type": "stream",
     "text": [
      "[3, 13, 4, 2, 17, 18, 9, 16, 15, 7, 10, 20, 1, 5, 14, 6, 8, 11, 12]\n"
     ]
    }
   ],
   "source": [
    "pila.mirar_lista()"
   ]
  },
  {
   "cell_type": "code",
   "execution_count": 41,
   "metadata": {},
   "outputs": [
    {
     "name": "stdout",
     "output_type": "stream",
     "text": [
      "Bienvenido al juego Pila\n",
      "Pila del 1 al 10 ordenados aleatoriamente\n",
      "ganaste 3 25\n"
     ]
    }
   ],
   "source": [
    "pila.jugar()"
   ]
  },
  {
   "cell_type": "markdown",
   "metadata": {},
   "source": [
    "2) Implementar un juego donde constas de 2 jarras, de capacidad 5 y 3 litros respectivamente, y debes colocar 4 litros en la jarra de 5L.\n",
    "Las opciones posibles son:\n",
    "* Llenar la jarra de 3 litros\n",
    "* Llenar la jarra de 5 litros\n",
    "* Vaciar la jarra de 3 litros\n",
    "* Vaciar la jarra de 5 litros\n",
    "* Verter el contenido de la jarra de 3 litros en la de 5 litros\n",
    "* Verter el contenido de la jarra de 5 litros en la de 3 litros"
   ]
  },
  {
   "cell_type": "code",
   "execution_count": 42,
   "metadata": {},
   "outputs": [],
   "source": [
    "class Jarra():\n",
    "    def __init__(self):\n",
    "        self.__jarra_3_litros=0\n",
    "        self.__jarra_5_litros=0\n",
    "    def consultar(self):\n",
    "        print(\"En la jara de 3 hay\",self.__jarra_3_litros,\"litros\")\n",
    "        print(\"En la jara de 5 hay\",self.__jarra_5_litros,\"litros\")\n",
    "    def llenar(self,numero):\n",
    "        if numero==3:\n",
    "            self.__jarra_3_litros=3\n",
    "        elif numero==5:\n",
    "            self.__jarra_5_litros=5\n",
    "        else:\n",
    "            print(\"no escogiste jarras\")\n",
    "    def vaciar(self,numero):\n",
    "        if numero == 3:\n",
    "            self.__jarra_3_litros = 0\n",
    "        elif numero == 5:\n",
    "            self.__jarra_5_litros = 0\n",
    "        else:\n",
    "            print(\"no escogiste jarras\")\n",
    "    def verter(self,numero):\n",
    "        if numero==3:\n",
    "            if self.__jarra_5_litros==0:\n",
    "                self.__jarra_5_litros +=self.__jarra_3_litros\n",
    "                self.__jarra_3_litros=0\n",
    "            else:\n",
    "                while(self.__jarra_3_litros!=0 and self.__jarra_5_litros<5):\n",
    "                    self.__jarra_3_litros+=1\n",
    "                    self.__jarra_5_litros-=1\n",
    "        if numero == 5:\n",
    "            if self.__jarra_5_litros == 0:\n",
    "                pass\n",
    "            else:\n",
    "                while(self.__jarra_5_litros != 0 and self.__jarra_3_litros < 3):\n",
    "                    self.__jarra_3_litros += 1\n",
    "                    self.__jarra_5_litros -= 1\n",
    "\n"
   ]
  },
  {
   "cell_type": "code",
   "execution_count": 43,
   "metadata": {},
   "outputs": [],
   "source": [
    "jarra=Jarra()"
   ]
  },
  {
   "cell_type": "code",
   "execution_count": 44,
   "metadata": {},
   "outputs": [],
   "source": [
    "jarra.llenar(5)\n",
    "jarra.llenar(3)"
   ]
  },
  {
   "cell_type": "code",
   "execution_count": 45,
   "metadata": {},
   "outputs": [
    {
     "name": "stdout",
     "output_type": "stream",
     "text": [
      "En la jara de 3 hay 3 litros\n",
      "En la jara de 5 hay 5 litros\n"
     ]
    }
   ],
   "source": [
    "jarra.consultar()"
   ]
  },
  {
   "cell_type": "code",
   "execution_count": 47,
   "metadata": {},
   "outputs": [],
   "source": [
    "jarra.vaciar(5)\n",
    "jarra.vaciar(3)"
   ]
  },
  {
   "cell_type": "code",
   "execution_count": 48,
   "metadata": {},
   "outputs": [
    {
     "name": "stdout",
     "output_type": "stream",
     "text": [
      "En la jara de 3 hay 0 litros\n",
      "En la jara de 5 hay 0 litros\n"
     ]
    }
   ],
   "source": [
    "jarra.consultar()\n"
   ]
  },
  {
   "cell_type": "code",
   "execution_count": 49,
   "metadata": {},
   "outputs": [],
   "source": [
    "jarra.llenar(3)\n"
   ]
  },
  {
   "cell_type": "code",
   "execution_count": 50,
   "metadata": {},
   "outputs": [],
   "source": [
    "jarra.verter(3)"
   ]
  },
  {
   "cell_type": "code",
   "execution_count": 51,
   "metadata": {},
   "outputs": [
    {
     "name": "stdout",
     "output_type": "stream",
     "text": [
      "En la jara de 3 hay 0 litros\n",
      "En la jara de 5 hay 3 litros\n"
     ]
    }
   ],
   "source": [
    "jarra.consultar()"
   ]
  }
 ],
 "metadata": {
  "kernelspec": {
   "display_name": "Python 3",
   "language": "python",
   "name": "python3"
  },
  "language_info": {
   "codemirror_mode": {
    "name": "ipython",
    "version": 3
   },
   "file_extension": ".py",
   "mimetype": "text/x-python",
   "name": "python",
   "nbconvert_exporter": "python",
   "pygments_lexer": "ipython3",
   "version": "3.8.15"
  },
  "vscode": {
   "interpreter": {
    "hash": "eed65dc113b38ec7b83fd04789d7dd84007a7aa72ee0095b9fc517a6412784e7"
   }
  }
 },
 "nbformat": 4,
 "nbformat_minor": 4
}
